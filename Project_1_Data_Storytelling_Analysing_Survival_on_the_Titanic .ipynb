{
  "nbformat": 4,
  "nbformat_minor": 0,
  "metadata": {
    "colab": {
      "provenance": []
    },
    "kernelspec": {
      "name": "python3",
      "display_name": "Python 3"
    },
    "language_info": {
      "name": "python"
    }
  },
  "cells": [
    {
      "cell_type": "code",
      "execution_count": null,
      "metadata": {
        "id": "tfAQbZeVpTx9"
      },
      "outputs": [],
      "source": [
        "!git clone https://github.com/GeeksforgeeksDS/21-Days-21-Projects-Dataset.git"
      ]
    },
    {
      "cell_type": "markdown",
      "source": [
        "#Data Storytelling: Analysing Survival on the **Titanic**"
      ],
      "metadata": {
        "id": "EL9Xf5T3qgAg"
      }
    },
    {
      "cell_type": "code",
      "source": [
        "import numpy as np\n",
        "import pandas as pd"
      ],
      "metadata": {
        "id": "nlbqQT3jqSyr"
      },
      "execution_count": null,
      "outputs": []
    },
    {
      "cell_type": "code",
      "source": [
        "df= pd.read_csv(\"/content/21-Days-21-Projects-Dataset/Datasets/Titanic-Dataset.csv\")"
      ],
      "metadata": {
        "id": "LLojeObBqeLj"
      },
      "execution_count": null,
      "outputs": []
    },
    {
      "cell_type": "code",
      "source": [
        "df"
      ],
      "metadata": {
        "id": "nj0X-6x0tgB_"
      },
      "execution_count": null,
      "outputs": []
    },
    {
      "source": [
        "df.head() #top 5 rows"
      ],
      "cell_type": "code",
      "execution_count": null,
      "outputs": [],
      "metadata": {
        "cellView": "form",
        "id": "U5DY0SgXtito"
      }
    },
    {
      "cell_type": "code",
      "source": [
        "df.tail() #bottom 5 rows"
      ],
      "metadata": {
        "id": "3jJ_BmkTtmQt"
      },
      "execution_count": null,
      "outputs": []
    },
    {
      "cell_type": "code",
      "source": [
        "df.describe()"
      ],
      "metadata": {
        "id": "73OcAdAFtXeI"
      },
      "execution_count": null,
      "outputs": []
    },
    {
      "cell_type": "code",
      "source": [],
      "metadata": {
        "id": "RUOBFHNhtfEz"
      },
      "execution_count": null,
      "outputs": []
    },
    {
      "cell_type": "code",
      "source": [
        "df.info()"
      ],
      "metadata": {
        "id": "hhOtv9zoqyoe"
      },
      "execution_count": null,
      "outputs": []
    },
    {
      "cell_type": "markdown",
      "source": [
        "Here, we can see there are null values in the Age, Cabin, and Embarked Columns. We need to fix"
      ],
      "metadata": {
        "id": "EZLMMXTHrOt6"
      }
    },
    {
      "cell_type": "code",
      "source": [
        "df.isnull().sum()"
      ],
      "metadata": {
        "id": "C0Vn7mHdrOgq"
      },
      "execution_count": null,
      "outputs": []
    },
    {
      "cell_type": "markdown",
      "source": [
        "Numerical Column - Median ∇ Categorical Column - Mode ∇ Too many missing values- Drop or Create New Column"
      ],
      "metadata": {
        "id": "Xi6ytMlVtymk"
      }
    },
    {
      "cell_type": "markdown",
      "source": [
        "Cleaning The **Data**"
      ],
      "metadata": {
        "id": "QfGpS1siuO3X"
      }
    },
    {
      "cell_type": "code",
      "source": [
        "#Cleaning Age\n",
        "median = df['Age'].median()\n",
        "print(median)\n",
        "df['Age']=df['Age'].fillna(median)\n",
        "df.isnull().sum()\n",
        "#Null Age values now has been filled with median values"
      ],
      "metadata": {
        "id": "QBJ2DOl9t19K"
      },
      "execution_count": null,
      "outputs": []
    },
    {
      "cell_type": "code",
      "source": [
        "#Cleaning Embarked - it's categorical so we will use mode\n",
        "\n",
        "mode=df[\"Embarked\"].mode()\n",
        "print(mode)\n",
        "df['Embarked']=df['Embarked'].fillna(mode[0])\n",
        "df.isnull().sum()\n",
        "#now here embarked missing or null values has been replaced with mode"
      ],
      "metadata": {
        "id": "qRuyoRyLv2Nz"
      },
      "execution_count": null,
      "outputs": []
    },
    {
      "cell_type": "code",
      "source": [
        "#Cleaning the Cabin Column\n",
        "# Most of the data for the cleaning column is missing so we will do something different\n",
        "# We can drop this or create a new column from it (has_cabin)\n",
        "\n",
        "df[\"Has Cabin\"] = df['Cabin'].notna().astype(int)\n",
        "df.head()"
      ],
      "metadata": {
        "id": "VZD7lD8Fwjqb"
      },
      "execution_count": null,
      "outputs": []
    },
    {
      "cell_type": "code",
      "source": [
        "df.drop(\"Cabin\" , axis=1 , inplace=True)\n",
        "df.head()"
      ],
      "metadata": {
        "id": "1v1cYJkcKLWS"
      },
      "execution_count": null,
      "outputs": []
    },
    {
      "cell_type": "code",
      "source": [
        "df.isnull().sum()"
      ],
      "metadata": {
        "id": "NWMnflj8KeGj"
      },
      "execution_count": null,
      "outputs": []
    },
    {
      "cell_type": "markdown",
      "source": [
        "**Now we are done with cleaning : It's Analysis Part**"
      ],
      "metadata": {
        "id": "Qt1MR8eZKPlE"
      }
    },
    {
      "cell_type": "code",
      "source": [
        "import matplotlib.pyplot as plt\n",
        "import seaborn as sns"
      ],
      "metadata": {
        "id": "lvxh2g1ZNAAW"
      },
      "execution_count": null,
      "outputs": []
    },
    {
      "cell_type": "markdown",
      "source": [
        "First Univariate Analysis: Analysis a single component or variable at once"
      ],
      "metadata": {
        "id": "St-wRyvhKnjf"
      }
    },
    {
      "cell_type": "code",
      "source": [
        "df.head(10)"
      ],
      "metadata": {
        "id": "EcUlzWmXQVm8"
      },
      "execution_count": null,
      "outputs": []
    },
    {
      "cell_type": "markdown",
      "source": [
        "Categorical - Count Plots (lets analyze them in the figures)"
      ],
      "metadata": {
        "id": "UHKHUOlfUdct"
      }
    },
    {
      "cell_type": "code",
      "source": [
        "print(\"Univariate Analysis: \")\n",
        "fig,axes= plt.subplots(3 , 3 , figsize=(18 , 22)) # creating 6 sub plots - 2 x 3 grid\n",
        "fig.suptitle(\"Univariate Analysis of the Categorical Columns\" , fontsize=16)\n",
        "\n",
        "sns.set_theme(style=\"whitegrid\")\n",
        "sns.set_style(\"darkgrid\")\n",
        "sns.set_palette(\"pastel\")\n",
        "#sns.countplot(which subplot , which variable, which data).set_title(title of the subplot)\n",
        "\n",
        "sns.countplot(ax=axes[0,0] , x=\"Survived\" , data=df).set_title(\"Survival Analysis\")\n",
        "sns.countplot(ax=axes[0,1] , x=\"Pclass\", data=df).set_title(\"Class Analysis\")\n",
        "sns.countplot(ax=axes[0,2] , x=\"Sex\" , data=df).set_title(\"Sex Analysis\")\n",
        "sns.countplot(ax=axes[1,0], x=\"Embarked\", data=df).set_title(\"Embarked Analysis\")\n",
        "sns.countplot(ax=axes[1,1] , x=\"Has Cabin\" , data=df).set_title(\"Has Cabin Analysis\")\n",
        "sns.countplot(ax=axes[1,2] , x=\"SibSp\" , data=df).set_title(\"SibSp Analysis\")\n",
        "sns.countplot(ax=axes[2,0] , x=\"Parch\" , data=df).set_title(\"Parch Analysis\")\n",
        "plt.tight_layout(rect=[0, 0, 1, 0.96])\n",
        "plt.show()"
      ],
      "metadata": {
        "id": "stUpe34TKO3R"
      },
      "execution_count": null,
      "outputs": []
    },
    {
      "cell_type": "markdown",
      "source": [
        "KEY INSIGHTS:\n",
        "\n",
        "---\n",
        "-Survival Rate is lower than Non-Survival  \n",
        "-Most people were from the lower class.  \n",
        "-Maximum were male passengers.  \n",
        "-Most people onboarded from S = Southampton.   \n",
        "-Few people had a cabin.   \n",
        "-Maximum people were travelling alone.\n"
      ],
      "metadata": {
        "id": "4XFfRdokWHhm"
      }
    },
    {
      "cell_type": "markdown",
      "source": [
        "**For Numerical- Histplot**"
      ],
      "metadata": {
        "id": "8Fq2S308ZpgM"
      }
    },
    {
      "cell_type": "code",
      "source": [
        "print(\"Numerical Unvariate Analysis : \")\n",
        "fig , axes= plt.subplots(1, 2, figsize=(22, 12))\n",
        "sns.histplot(ax=axes[0] , x=\"Age\" , data=df , bins=40 , kde=True).set_title(\"Age Distribution\")\n",
        "sns.histplot(ax=axes[1] , x=\"Fare\" , data=df , bins =40 , kde=True).set_title(\"Fare Distribution\")\n",
        "plt.tight_layout(rect=[0, 0, 1, 0.96])\n",
        "plt.show()"
      ],
      "metadata": {
        "id": "buArVSICNVYw"
      },
      "execution_count": null,
      "outputs": []
    },
    {
      "cell_type": "markdown",
      "source": [
        "**Key Insights**\n",
        "\n",
        "---\n",
        "- Maximum number of people are aged between 28-29\n",
        "- Fare Distribution is right-skewed with maximum people having low fare\n",
        "\n"
      ],
      "metadata": {
        "id": "EL7XMBemrLUZ"
      }
    },
    {
      "cell_type": "markdown",
      "source": [
        "Bi-Variate Analaysis.   \n",
        "Analysis of two column relations"
      ],
      "metadata": {
        "id": "SrKI4aqysJxA"
      }
    },
    {
      "cell_type": "code",
      "source": [
        "df.info()"
      ],
      "metadata": {
        "id": "0TlEIcmi7tnJ"
      },
      "execution_count": null,
      "outputs": []
    },
    {
      "cell_type": "code",
      "source": [
        "#Bi-Variate Analysis : Feature vs Survival\n",
        "\n",
        "fig , axes= plt.subplots(2, 2, figsize=(22, 12))\n",
        "\n",
        "sns.barplot(ax=axes[0][0] , x=\"Sex\" , y=\"Survived\" , data=df).set_title(\"Sex vs Survival\")\n",
        "sns.barplot(ax=axes[0][1] , x=\"Pclass\" , y=\"Survived\" , data=df).set_title(\"Pclass vs Survival\")\n",
        "sns.barplot(ax=axes[1][0] , x=\"Embarked\" , y=\"Survived\" , data=df).set_title(\"Embarked vs Survival\")\n",
        "sns.barplot(ax=axes[1][1] , x=\"Has Cabin\" , y=\"Survived\" , data=df).set_title(\"Has Cabin vs Survival\")\n",
        "plt.tight_layout(rect=[0, 0, 1, 0.96])"
      ],
      "metadata": {
        "id": "56oo9E-Tr-5-"
      },
      "execution_count": null,
      "outputs": []
    },
    {
      "cell_type": "markdown",
      "source": [
        "Insights :\n",
        "\n",
        "\n",
        "---\n",
        "- Poor Dies , Rich Survives - more than 60% upperclass people survived while survival rate of lowerclass people was around only 25%.\n",
        "- Among the survivals most of them were females (Why always men)\n",
        "- Survival Rate was high who onboarded from Cherbourg (Maybe from here most of the upperclass and female onboarded)\n",
        "- Those who had cabin survived more (Which is justifiable as rich people were in the cabin)\n"
      ],
      "metadata": {
        "id": "mwSlpm0K886q"
      }
    },
    {
      "cell_type": "code",
      "source": [
        "# Age vs. Survival\n",
        "g = sns.FacetGrid(df, col='Survived', height=6)\n",
        "g.map(sns.histplot, 'Age', bins=25, kde=True)\n",
        "plt.suptitle('Age Distribution by Survival Status', y=1.02)\n",
        "plt.show()"
      ],
      "metadata": {
        "id": "4CqbtBq9-Sch"
      },
      "execution_count": null,
      "outputs": []
    },
    {
      "cell_type": "markdown",
      "source": [
        "Insights:\n",
        "\n",
        "\n",
        "---\n",
        "- Survival rate of infant and young children was higher  \n",
        "- Survival of adults was lower\n",
        "- Older people >65 didn't survived\n"
      ],
      "metadata": {
        "id": "O0sSKEJe_ZOJ"
      }
    },
    {
      "cell_type": "markdown",
      "source": [],
      "metadata": {
        "id": "PndHyVS6_ZGG"
      }
    },
    {
      "cell_type": "code",
      "source": [
        "plt.figure(figsize=(10,8))\n",
        "sns.boxplot(y='Fare', data=df)\n",
        "plt.title('Box Plot for Ticket Price')\n",
        "plt.ylabel(\"Fare\")\n",
        "plt.show()\n",
        "#Outliers in the fare distribution\n"
      ],
      "metadata": {
        "id": "s4sVr0F2AlEa"
      },
      "execution_count": null,
      "outputs": []
    },
    {
      "cell_type": "markdown",
      "source": [
        "**Feature Engineering**"
      ],
      "metadata": {
        "id": "CtHIuYEMCD2i"
      }
    },
    {
      "cell_type": "code",
      "source": [
        "## Creating a new column family size using the sibling spouse and parent child data\n",
        "df['FamilySize'] = df['SibSp'] + df['Parch'] + 1\n",
        "\n",
        "# 2. Creating a new column isAlone from familySize column , those who were alone in the titanic\n",
        "df['IsAlone'] = 0\n",
        "df.loc[df['FamilySize'] == 1, 'IsAlone'] = 1\n",
        "\n",
        "print(\"Created 'FamilySize' and 'IsAlone' features:\")\n",
        "df[['FamilySize', 'IsAlone']].head()"
      ],
      "metadata": {
        "id": "YP-xDMrK_Yjs"
      },
      "execution_count": null,
      "outputs": []
    },
    {
      "cell_type": "code",
      "source": [
        "df.head()"
      ],
      "metadata": {
        "id": "1G_QJ7InCDY3"
      },
      "execution_count": null,
      "outputs": []
    },
    {
      "cell_type": "markdown",
      "source": [
        "Now we can find family people or single died most"
      ],
      "metadata": {
        "id": "fjd3iRGPCpYC"
      }
    },
    {
      "cell_type": "code",
      "source": [
        "# Analyze the new family-related features against survival\n",
        "fig, axes = plt.subplots(1, 2, figsize=(16, 6))\n",
        "\n",
        "# Survival Rate by FamilySize\n",
        "sns.barplot(ax=axes[0], x='FamilySize', y='Survived', data=df).set_title('Survival Rate by Family Size')\n",
        "\n",
        "# Survival Rate by IsAlone\n",
        "sns.barplot(ax=axes[1], x='IsAlone', y='Survived', data=df).set_title('Survival Rate for Lone Travelers')\n",
        "\n",
        "plt.show()"
      ],
      "metadata": {
        "id": "EMdDc1l6Cuf6"
      },
      "execution_count": null,
      "outputs": []
    },
    {
      "cell_type": "markdown",
      "source": [
        "Insights:\n",
        "\n",
        "\n",
        "---\n",
        "- Singles playing the Hero part and died more\n",
        "- Family size of 2 - 4 had the most survival rate"
      ],
      "metadata": {
        "id": "Byc_57BHDC82"
      }
    },
    {
      "cell_type": "code",
      "source": [
        "# 3. Extract 'Title' from the 'Name' column\n",
        "df['Title'] = df['Name'].str.extract(r' ([A-Za-z]+)\\.', expand=False)\n",
        "\n",
        "# Let's see the different titles\n",
        "print(\"Extracted Titles:\")\n",
        "df['Title'].value_counts()"
      ],
      "metadata": {
        "id": "BegHP77dDXR5"
      },
      "execution_count": null,
      "outputs": []
    },
    {
      "cell_type": "code",
      "source": [
        "# Simplify the titles by grouping rare ones into a 'Rare' category\n",
        "df['Title'] = df['Title'].replace(['Lady', 'Countess','Capt', 'Col','Don', 'Dr', 'Major', 'Rev', 'Sir', 'Jonkheer', 'Dona'], 'Rare')\n",
        "\n",
        "df['Title'] = df['Title'].replace('Mlle', 'Miss')\n",
        "df['Title'] = df['Title'].replace('Ms', 'Miss')\n",
        "df['Title'] = df['Title'].replace('Mme', 'Mrs')\n",
        "\n",
        "# Let's see the survival rate by the new, cleaned titles\n",
        "plt.figure(figsize=(12, 6))\n",
        "sns.barplot(x='Title', y='Survived', data=df)\n",
        "plt.title('Survival Rate by Title')\n",
        "plt.ylabel('Survival Probability')\n",
        "plt.show()"
      ],
      "metadata": {
        "id": "o9wpHrNJEHYN"
      },
      "execution_count": null,
      "outputs": []
    },
    {
      "cell_type": "markdown",
      "source": [
        "Insights :\n",
        "\n",
        "---\n",
        "- Married womens survived most following the unmarried females.\n",
        "-\n"
      ],
      "metadata": {
        "id": "4oWx9ukUEOjG"
      }
    },
    {
      "cell_type": "markdown",
      "source": [
        "Multivariate Analysis"
      ],
      "metadata": {
        "id": "kgpzTE4REliP"
      }
    },
    {
      "cell_type": "code",
      "source": [
        "# Survival rate by Pclass and Sex\n",
        "sns.catplot(x='Pclass', y='Survived', hue='Sex', data=df, kind='bar', height=6, aspect=1.5)\n",
        "plt.title('Survival Rate by Pclass and Sex')\n",
        "plt.ylabel('Survival Probability')\n",
        "plt.show()\n",
        "\n",
        "# Insights: Females in all classes had a significantly higher survival rate than males."
      ],
      "metadata": {
        "id": "rqPNqoVkElPt"
      },
      "execution_count": null,
      "outputs": []
    },
    {
      "cell_type": "code",
      "source": [
        "# Violin plot to see age distribution by sex and survival status\n",
        "plt.figure(figsize=(14, 8))\n",
        "sns.violinplot(x='Sex', y='Age', hue='Survived', data=df, split=True, palette={0: 'blue', 1: 'orange'})\n",
        "plt.title('Age Distribution by Sex and Survival')\n",
        "plt.show()"
      ],
      "metadata": {
        "id": "b2c5cXizEkNV"
      },
      "execution_count": null,
      "outputs": []
    },
    {
      "cell_type": "markdown",
      "source": [
        "Insights:\n",
        "\n",
        "\n",
        "---\n",
        "- younger male kids survived more\n",
        "- survival and non-survival rate of the adult and older males were similar\n",
        "- younger female kids survived less\n",
        "- survival rate adult and older females were higher than non-survival rate\n"
      ],
      "metadata": {
        "id": "m9yo4g0tFrTE"
      }
    },
    {
      "cell_type": "markdown",
      "source": [
        "Correlation Analysis"
      ],
      "metadata": {
        "id": "dNTiQY7fFBjd"
      }
    },
    {
      "cell_type": "code",
      "source": [
        "# Correlation Heatmap for numerical features\n",
        "plt.figure(figsize=(14, 10))\n",
        "numeric_cols = df.select_dtypes(include=np.number)\n",
        "correlation_matrix = numeric_cols.corr()\n",
        "sns.heatmap(correlation_matrix, annot=True, cmap='Blues', fmt='.2f')\n",
        "plt.title('Correlation Matrix of Numerical Features')\n",
        "plt.show()"
      ],
      "metadata": {
        "id": "OAg88GntFEKQ"
      },
      "execution_count": null,
      "outputs": []
    },
    {
      "cell_type": "markdown",
      "source": [
        "Insights:\n",
        "\n",
        "\n",
        "---\n",
        "\n",
        "\n",
        "\n",
        "---\n",
        "- With the increase of Pclass (chances of having cabin , fare and survival rate decreases) eg: 3rd class less fare , less survival chance\n",
        "- Family size highly correlated with the Parch and SibSp\n",
        "\n"
      ],
      "metadata": {
        "id": "bHrMdumCHWIM"
      }
    },
    {
      "cell_type": "code",
      "source": [
        "# Install ydata-profiling\n",
        "!pip install ydata-profiling -q"
      ],
      "metadata": {
        "id": "mskCSrjPHW3H"
      },
      "execution_count": null,
      "outputs": []
    },
    {
      "cell_type": "code",
      "source": [
        "# Generating the profiling report\n",
        "from ydata_profiling import ProfileReport\n",
        "\n",
        "profile = ProfileReport(df, title=\"Titanic Dataset Profiling Report\")\n",
        "\n",
        "# Display the report in the notebook\n",
        "profile.to_notebook_iframe()"
      ],
      "metadata": {
        "id": "IuUeruXjIQ4I"
      },
      "execution_count": null,
      "outputs": []
    }
  ]
}